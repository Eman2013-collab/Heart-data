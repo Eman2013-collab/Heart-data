{
  "nbformat": 4,
  "nbformat_minor": 0,
  "metadata": {
    "colab": {
      "private_outputs": true,
      "provenance": []
    },
    "kernelspec": {
      "name": "python3",
      "display_name": "Python 3"
    },
    "language_info": {
      "name": "python"
    }
  },
  "cells": [
    {
      "cell_type": "code",
      "execution_count": null,
      "metadata": {
        "id": "4Vm0jMjtG7JZ"
      },
      "outputs": [],
      "source": [
        "import matplotlib.pyplot as plt\n",
        "import seaborn as sns\n",
        "import pandas as pd"
      ]
    },
    {
      "cell_type": "code",
      "source": [
        "df=pd.read_csv(\"/content/heart (6).csv\")\n",
        "df"
      ],
      "metadata": {
        "id": "WMUhXSw2HfrB"
      },
      "execution_count": null,
      "outputs": []
    },
    {
      "cell_type": "code",
      "source": [
        "sns.countplot(x=\"target\",data=df)\n",
        "plt.title(\"friends love chocolate VS candy\")\n",
        "plt.show()"
      ],
      "metadata": {
        "id": "oavG5CnNHthE"
      },
      "execution_count": null,
      "outputs": []
    },
    {
      "cell_type": "code",
      "source": [
        "sns.countplot(x=\"sex\",hue=\"target\",data=df)\n",
        "plt.title(\" boys VS girls love pizza\")\n",
        "plt.show()"
      ],
      "metadata": {
        "id": "i8fYnckkI5Nw"
      },
      "execution_count": null,
      "outputs": []
    },
    {
      "cell_type": "code",
      "source": [
        "sns.pairplot(df,hue=\"target\")\n",
        "plt.show()"
      ],
      "metadata": {
        "id": "7buEH8SBKRw8"
      },
      "execution_count": null,
      "outputs": []
    },
    {
      "cell_type": "code",
      "source": [
        "sns.pairplot(df,hue=\"target\",vars=[\"age\",\"chol\"],palette={0:\"#b60077\",1:\"#019b94\"})\n",
        "plt.show()"
      ],
      "metadata": {
        "id": "KipLIlpPKsmQ"
      },
      "execution_count": null,
      "outputs": []
    },
    {
      "cell_type": "code",
      "source": [
        "sns.countplot(x=\"target\",hue=\"cp\",data=df,palette={0:\"#019b94\",1:\"#00c9bf\",2:\"#f3eada\",3:\"#ffa17a\"})\n",
        "plt.show()"
      ],
      "metadata": {
        "id": "qPDGECZ3LUev"
      },
      "execution_count": null,
      "outputs": []
    }
  ]
}